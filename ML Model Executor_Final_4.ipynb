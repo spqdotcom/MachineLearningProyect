{
 "cells": [
  {
   "cell_type": "markdown",
   "id": "d606dedc-0472-4b52-989f-572dc20344e0",
   "metadata": {
    "jp-MarkdownHeadingCollapsed": true
   },
   "source": [
    "# Import Tools"
   ]
  },
  {
   "cell_type": "code",
   "execution_count": 6,
   "id": "49d7ad6e-ba71-4314-87db-6d9e61eb2b28",
   "metadata": {},
   "outputs": [],
   "source": [
    "import pandas as pd"
   ]
  },
  {
   "cell_type": "markdown",
   "id": "22afd228-6dbf-4644-bbc4-31d111a2ea24",
   "metadata": {
    "jp-MarkdownHeadingCollapsed": true
   },
   "source": [
    "# Import DF"
   ]
  },
  {
   "cell_type": "code",
   "execution_count": 8,
   "id": "c15c1fae-d768-411f-b139-b3e23035536b",
   "metadata": {},
   "outputs": [],
   "source": [
    "df_into_models = 'df_into_models.csv'\n",
    "\n",
    "df = pd.read_csv(df_into_models)"
   ]
  },
  {
   "cell_type": "markdown",
   "id": "19ea2cda-6399-41d3-87cc-40f2a97cba6a",
   "metadata": {
    "jp-MarkdownHeadingCollapsed": true
   },
   "source": [
    "# Check DF"
   ]
  },
  {
   "cell_type": "code",
   "execution_count": 10,
   "id": "a04e55cf-7778-46d4-8174-20a6c949769c",
   "metadata": {},
   "outputs": [
    {
     "data": {
      "text/plain": [
       "(73231, 20)"
      ]
     },
     "execution_count": 10,
     "metadata": {},
     "output_type": "execute_result"
    }
   ],
   "source": [
    "df.shape"
   ]
  },
  {
   "cell_type": "code",
   "execution_count": 11,
   "id": "d7bd20d4-4d9d-469e-8d36-772dd08e5d0a",
   "metadata": {},
   "outputs": [
    {
     "data": {
      "text/html": [
       "<div>\n",
       "<style scoped>\n",
       "    .dataframe tbody tr th:only-of-type {\n",
       "        vertical-align: middle;\n",
       "    }\n",
       "\n",
       "    .dataframe tbody tr th {\n",
       "        vertical-align: top;\n",
       "    }\n",
       "\n",
       "    .dataframe thead th {\n",
       "        text-align: right;\n",
       "    }\n",
       "</style>\n",
       "<table border=\"1\" class=\"dataframe\">\n",
       "  <thead>\n",
       "    <tr style=\"text-align: right;\">\n",
       "      <th></th>\n",
       "      <th>regio1</th>\n",
       "      <th>heatingType</th>\n",
       "      <th>newlyConst</th>\n",
       "      <th>balcony</th>\n",
       "      <th>pricetrend</th>\n",
       "      <th>noParkSpaces</th>\n",
       "      <th>hasKitchen</th>\n",
       "      <th>cellar</th>\n",
       "      <th>baseRent</th>\n",
       "      <th>livingSpace</th>\n",
       "      <th>condition</th>\n",
       "      <th>petsAllowed</th>\n",
       "      <th>lift</th>\n",
       "      <th>typeOfFlat</th>\n",
       "      <th>noRooms</th>\n",
       "      <th>floor</th>\n",
       "      <th>garden</th>\n",
       "      <th>buildingAge</th>\n",
       "      <th>firingTypes_grouped</th>\n",
       "      <th>Postal_Code</th>\n",
       "    </tr>\n",
       "  </thead>\n",
       "  <tbody>\n",
       "    <tr>\n",
       "      <th>0</th>\n",
       "      <td>Bremen</td>\n",
       "      <td>self_contained_central_heating</td>\n",
       "      <td>False</td>\n",
       "      <td>True</td>\n",
       "      <td>2.46</td>\n",
       "      <td>0.0</td>\n",
       "      <td>False</td>\n",
       "      <td>False</td>\n",
       "      <td>765.00</td>\n",
       "      <td>84.97</td>\n",
       "      <td>good</td>\n",
       "      <td>negotiable</td>\n",
       "      <td>False</td>\n",
       "      <td>medium_quality</td>\n",
       "      <td>3.0</td>\n",
       "      <td>1.0</td>\n",
       "      <td>False</td>\n",
       "      <td>70.0</td>\n",
       "      <td>gas</td>\n",
       "      <td>9.803597</td>\n",
       "    </tr>\n",
       "    <tr>\n",
       "      <th>1</th>\n",
       "      <td>Schleswig Holstein</td>\n",
       "      <td>gas_heating</td>\n",
       "      <td>False</td>\n",
       "      <td>True</td>\n",
       "      <td>4.48</td>\n",
       "      <td>0.0</td>\n",
       "      <td>True</td>\n",
       "      <td>False</td>\n",
       "      <td>315.20</td>\n",
       "      <td>53.43</td>\n",
       "      <td>good</td>\n",
       "      <td>no</td>\n",
       "      <td>False</td>\n",
       "      <td>medium_quality</td>\n",
       "      <td>2.0</td>\n",
       "      <td>0.0</td>\n",
       "      <td>False</td>\n",
       "      <td>21.0</td>\n",
       "      <td>gas</td>\n",
       "      <td>6.171775</td>\n",
       "    </tr>\n",
       "    <tr>\n",
       "      <th>2</th>\n",
       "      <td>Sachsen</td>\n",
       "      <td>self_contained_central_heating</td>\n",
       "      <td>False</td>\n",
       "      <td>False</td>\n",
       "      <td>1.01</td>\n",
       "      <td>0.0</td>\n",
       "      <td>False</td>\n",
       "      <td>True</td>\n",
       "      <td>310.00</td>\n",
       "      <td>62.00</td>\n",
       "      <td>good</td>\n",
       "      <td>negotiable</td>\n",
       "      <td>False</td>\n",
       "      <td>unknown</td>\n",
       "      <td>2.0</td>\n",
       "      <td>1.0</td>\n",
       "      <td>True</td>\n",
       "      <td>55.0</td>\n",
       "      <td>other_unknown</td>\n",
       "      <td>5.773665</td>\n",
       "    </tr>\n",
       "    <tr>\n",
       "      <th>3</th>\n",
       "      <td>Bremen</td>\n",
       "      <td>central_heating</td>\n",
       "      <td>False</td>\n",
       "      <td>True</td>\n",
       "      <td>1.89</td>\n",
       "      <td>0.0</td>\n",
       "      <td>False</td>\n",
       "      <td>True</td>\n",
       "      <td>452.25</td>\n",
       "      <td>60.30</td>\n",
       "      <td>unknown</td>\n",
       "      <td>negotiable</td>\n",
       "      <td>False</td>\n",
       "      <td>medium_quality</td>\n",
       "      <td>3.0</td>\n",
       "      <td>2.0</td>\n",
       "      <td>False</td>\n",
       "      <td>61.0</td>\n",
       "      <td>electricity</td>\n",
       "      <td>8.059533</td>\n",
       "    </tr>\n",
       "    <tr>\n",
       "      <th>4</th>\n",
       "      <td>Baden Württemberg</td>\n",
       "      <td>oil_heating</td>\n",
       "      <td>False</td>\n",
       "      <td>False</td>\n",
       "      <td>3.77</td>\n",
       "      <td>1.0</td>\n",
       "      <td>True</td>\n",
       "      <td>True</td>\n",
       "      <td>580.00</td>\n",
       "      <td>53.00</td>\n",
       "      <td>good</td>\n",
       "      <td>no</td>\n",
       "      <td>False</td>\n",
       "      <td>high_quality</td>\n",
       "      <td>2.0</td>\n",
       "      <td>2.0</td>\n",
       "      <td>False</td>\n",
       "      <td>50.0</td>\n",
       "      <td>oil</td>\n",
       "      <td>9.611600</td>\n",
       "    </tr>\n",
       "  </tbody>\n",
       "</table>\n",
       "</div>"
      ],
      "text/plain": [
       "               regio1                     heatingType  newlyConst  balcony  \\\n",
       "0              Bremen  self_contained_central_heating       False     True   \n",
       "1  Schleswig Holstein                     gas_heating       False     True   \n",
       "2             Sachsen  self_contained_central_heating       False    False   \n",
       "3              Bremen                 central_heating       False     True   \n",
       "4   Baden Württemberg                     oil_heating       False    False   \n",
       "\n",
       "   pricetrend  noParkSpaces  hasKitchen  cellar  baseRent  livingSpace  \\\n",
       "0        2.46           0.0       False   False    765.00        84.97   \n",
       "1        4.48           0.0        True   False    315.20        53.43   \n",
       "2        1.01           0.0       False    True    310.00        62.00   \n",
       "3        1.89           0.0       False    True    452.25        60.30   \n",
       "4        3.77           1.0        True    True    580.00        53.00   \n",
       "\n",
       "  condition petsAllowed   lift      typeOfFlat  noRooms  floor  garden  \\\n",
       "0      good  negotiable  False  medium_quality      3.0    1.0   False   \n",
       "1      good          no  False  medium_quality      2.0    0.0   False   \n",
       "2      good  negotiable  False         unknown      2.0    1.0    True   \n",
       "3   unknown  negotiable  False  medium_quality      3.0    2.0   False   \n",
       "4      good          no  False    high_quality      2.0    2.0   False   \n",
       "\n",
       "   buildingAge firingTypes_grouped  Postal_Code  \n",
       "0         70.0                 gas     9.803597  \n",
       "1         21.0                 gas     6.171775  \n",
       "2         55.0       other_unknown     5.773665  \n",
       "3         61.0         electricity     8.059533  \n",
       "4         50.0                 oil     9.611600  "
      ]
     },
     "execution_count": 11,
     "metadata": {},
     "output_type": "execute_result"
    }
   ],
   "source": [
    "df.head()"
   ]
  },
  {
   "cell_type": "code",
   "execution_count": 12,
   "id": "3188ee9b-2725-46f4-8258-568609f23097",
   "metadata": {},
   "outputs": [
    {
     "name": "stdout",
     "output_type": "stream",
     "text": [
      "            Column Name Data Type  Percentage Null  Unique Values\n",
      "0                regio1    object              0.0             16\n",
      "1           heatingType    object              0.0             14\n",
      "2            newlyConst      bool              0.0              2\n",
      "3               balcony      bool              0.0              2\n",
      "4            pricetrend   float64              0.0           1029\n",
      "5          noParkSpaces   float64              0.0              5\n",
      "6            hasKitchen      bool              0.0              2\n",
      "7                cellar      bool              0.0              2\n",
      "8              baseRent   float64              0.0          10433\n",
      "9           livingSpace   float64              0.0           8957\n",
      "10            condition    object              0.0              6\n",
      "11          petsAllowed    object              0.0              3\n",
      "12                 lift      bool              0.0              2\n",
      "13           typeOfFlat    object              0.0              4\n",
      "14              noRooms   float64              0.0             22\n",
      "15                floor   float64              0.0             23\n",
      "16               garden      bool              0.0              2\n",
      "17          buildingAge   float64              0.0            295\n",
      "18  firingTypes_grouped    object              0.0              8\n",
      "19          Postal_Code   float64              0.0           5235\n"
     ]
    }
   ],
   "source": [
    "column_summary_df = pd.DataFrame({\n",
    "    'Column Name': df.columns,\n",
    "    'Data Type': df.dtypes.values,\n",
    "    'Percentage Null': df.isnull().mean().values * 100,\n",
    "    'Unique Values': df.nunique().values\n",
    "})\n",
    "\n",
    "print(column_summary_df)"
   ]
  },
  {
   "cell_type": "markdown",
   "id": "595bed21-badc-45cd-9b2a-52b5d8dad3d4",
   "metadata": {
    "jp-MarkdownHeadingCollapsed": true
   },
   "source": [
    "# Create Dummies (With and Without Dropping First Column)"
   ]
  },
  {
   "cell_type": "code",
   "execution_count": 14,
   "id": "fd82fcc9-6840-42dd-af9b-663f05ab7830",
   "metadata": {},
   "outputs": [],
   "source": [
    "# Dummies without dropping first column\n",
    "df_dummies = pd.get_dummies(df)\n",
    "\n",
    "# Dummies with dropping first column\n",
    "df_dummies_drop = pd.get_dummies(df, drop_first=True)"
   ]
  },
  {
   "cell_type": "markdown",
   "id": "fa291c3f-991a-4d48-bb62-1721fd54cd14",
   "metadata": {
    "jp-MarkdownHeadingCollapsed": true
   },
   "source": [
    "# Define Features (X) and Target (y)"
   ]
  },
  {
   "cell_type": "code",
   "execution_count": 16,
   "id": "809edcc3-4414-4807-bb9b-ad041da8b3df",
   "metadata": {},
   "outputs": [],
   "source": [
    "target = 'baseRent'  \n",
    "\n",
    "X = df_dummies.drop(columns=[target])  # Without dropping a dummy\n",
    "X_drop = df_dummies_drop.drop(columns=[target])  # Dropped dummy\n",
    "y = df[target]"
   ]
  },
  {
   "cell_type": "markdown",
   "id": "0bc5451a-5570-4e2b-aae8-44ed3709ec3c",
   "metadata": {
    "jp-MarkdownHeadingCollapsed": true
   },
   "source": [
    "# Split into Train/Test Sets"
   ]
  },
  {
   "cell_type": "code",
   "execution_count": 18,
   "id": "ff37a718-4e5d-4aca-86a3-5ef298968159",
   "metadata": {},
   "outputs": [],
   "source": [
    "from sklearn.model_selection import train_test_split\n",
    "\n",
    "X_train, X_test, y_train, y_test = train_test_split(X, y, test_size=0.2, random_state=42)\n",
    "X_train_drop, X_test_drop, y_train_drop, y_test_drop = train_test_split(X_drop, y, test_size=0.2, random_state=42)"
   ]
  },
  {
   "cell_type": "markdown",
   "id": "b1c94614-58ca-4008-87a0-8f38cfb495f3",
   "metadata": {
    "jp-MarkdownHeadingCollapsed": true
   },
   "source": [
    "# Normalize Where Required"
   ]
  },
  {
   "cell_type": "code",
   "execution_count": 32,
   "id": "b2ebf94c-ef2a-4e34-9d41-0a996e6ad702",
   "metadata": {},
   "outputs": [],
   "source": [
    "from sklearn.preprocessing import MinMaxScaler, StandardScaler\n",
    "\n",
    "# Identify numeric columns excluding boolean columns\n",
    "numeric_cols = X_train.select_dtypes(include=['float64', 'int64']).columns\n",
    "bool_cols = X_train.select_dtypes(include=['bool', 'uint8']).columns\n",
    "\n",
    "minmax_scaler = MinMaxScaler()\n",
    "standard_scaler = StandardScaler()\n",
    "\n",
    "# Standard normalization (only numeric columns, no drop)\n",
    "X_train_standard = X_train.copy()\n",
    "X_test_standard = X_test.copy()\n",
    "\n",
    "X_train_standard[numeric_cols] = standard_scaler.fit_transform(X_train[numeric_cols])\n",
    "X_test_standard[numeric_cols] = standard_scaler.transform(X_test[numeric_cols])\n",
    "\n",
    "# Standard normalization (only numeric columns, with drop)\n",
    "X_train_drop_standard = X_train_drop.copy()\n",
    "X_test_drop_standard = X_test_drop.copy()\n",
    "\n",
    "X_train_drop_standard[numeric_cols] = standard_scaler.fit_transform(X_train_drop[numeric_cols])\n",
    "X_test_drop_standard[numeric_cols] = standard_scaler.transform(X_test_drop[numeric_cols])\n",
    "\n",
    "# MinMax normalization (all columns, including boolean/dummy, since it doesn’t distort booleans)\n",
    "X_train_minmax = minmax_scaler.fit_transform(X_train)\n",
    "X_test_minmax = minmax_scaler.transform(X_test)\n",
    "\n",
    "X_train_drop_minmax = minmax_scaler.fit_transform(X_train_drop)\n",
    "X_test_drop_minmax = minmax_scaler.transform(X_test_drop)"
   ]
  },
  {
   "cell_type": "code",
   "execution_count": 44,
   "id": "7bf3f7d5-2ec5-4a29-941c-4553dcde572b",
   "metadata": {},
   "outputs": [
    {
     "data": {
      "text/plain": [
       "(58584, 64)"
      ]
     },
     "execution_count": 44,
     "metadata": {},
     "output_type": "execute_result"
    }
   ],
   "source": [
    "X_train.shape"
   ]
  },
  {
   "cell_type": "code",
   "execution_count": 46,
   "id": "e790dfc1-dabb-459b-a058-a3b7b606c493",
   "metadata": {},
   "outputs": [
    {
     "data": {
      "text/plain": [
       "(58584, 58)"
      ]
     },
     "execution_count": 46,
     "metadata": {},
     "output_type": "execute_result"
    }
   ],
   "source": [
    "X_train_drop.shape"
   ]
  },
  {
   "cell_type": "code",
   "execution_count": 36,
   "id": "fa3ad73d-e688-48d4-bed3-e22648e78ba5",
   "metadata": {},
   "outputs": [
    {
     "data": {
      "text/plain": [
       "(58584, 64)"
      ]
     },
     "execution_count": 36,
     "metadata": {},
     "output_type": "execute_result"
    }
   ],
   "source": [
    "X_train_standard.shape"
   ]
  },
  {
   "cell_type": "code",
   "execution_count": 38,
   "id": "d8002d53-4880-4504-9754-5fd33f268803",
   "metadata": {},
   "outputs": [
    {
     "data": {
      "text/plain": [
       "(58584, 58)"
      ]
     },
     "execution_count": 38,
     "metadata": {},
     "output_type": "execute_result"
    }
   ],
   "source": [
    "X_train_drop_standard.shape"
   ]
  },
  {
   "cell_type": "code",
   "execution_count": 40,
   "id": "45ad9700-3b83-4af2-917b-f3af1feac814",
   "metadata": {},
   "outputs": [
    {
     "data": {
      "text/plain": [
       "(58584, 64)"
      ]
     },
     "execution_count": 40,
     "metadata": {},
     "output_type": "execute_result"
    }
   ],
   "source": [
    "X_train_minmax.shape"
   ]
  },
  {
   "cell_type": "code",
   "execution_count": 42,
   "id": "acf416ba-f043-4a03-9d37-2a06baa8510d",
   "metadata": {},
   "outputs": [
    {
     "data": {
      "text/plain": [
       "(58584, 58)"
      ]
     },
     "execution_count": 42,
     "metadata": {},
     "output_type": "execute_result"
    }
   ],
   "source": [
    "X_train_drop_minmax.shape"
   ]
  },
  {
   "cell_type": "markdown",
   "id": "8e21493d-86e5-4641-b5c2-3d7f3b59427b",
   "metadata": {
    "jp-MarkdownHeadingCollapsed": true
   },
   "source": [
    "# Train Models Individually and Store Results"
   ]
  },
  {
   "cell_type": "code",
   "execution_count": 29,
   "id": "8a9c1908-2fb4-4d99-8cce-99980dd86ad4",
   "metadata": {},
   "outputs": [],
   "source": [
    "import time\n",
    "import pickle\n",
    "from sklearn.metrics import mean_absolute_error, mean_squared_error, r2_score\n",
    "from sklearn.neighbors import KNeighborsRegressor\n",
    "from sklearn.linear_model import LinearRegression\n",
    "from sklearn.tree import DecisionTreeRegressor\n",
    "from sklearn.ensemble import RandomForestRegressor, GradientBoostingRegressor, BaggingRegressor, AdaBoostRegressor\n",
    "import xgboost as xgb\n",
    "import lightgbm as lgb\n",
    "\n",
    "results = {}\n",
    "\n",
    "def evaluate_model(name, model, X_train, X_test, y_train, y_test):\n",
    "    start_time = time.time()\n",
    "    model.fit(X_train, y_train)\n",
    "    y_pred = model.predict(X_test)\n",
    "    elapsed_time = time.time() - start_time\n",
    "\n",
    "    mae = mean_absolute_error(y_test, y_pred)\n",
    "    rmse = mean_squared_error(y_test, y_pred, squared=False)\n",
    "    r2 = r2_score(y_test, y_pred)\n",
    "\n",
    "    results[name] = {\"MAE\": mae, \"RMSE\": rmse, \"R2\": r2, \"Time\": elapsed_time}\n",
    "    print(f\"{name} \\nMAE: {mae:.2f}\\nRMSE: {rmse:.2f}\\nR² Score: {r2:.4f}\\nTime: {elapsed_time:.2f} sec\")\n",
    "\n",
    "    with open(f\"{name}.pkl\", \"wb\") as file:\n",
    "        pickle.dump(model, file)"
   ]
  },
  {
   "cell_type": "markdown",
   "id": "33712183-e273-4deb-bdaa-cecfe063e977",
   "metadata": {
    "jp-MarkdownHeadingCollapsed": true
   },
   "source": [
    "# Run Each Model in Separate Cells"
   ]
  },
  {
   "cell_type": "markdown",
   "id": "f9f2be72-bcd0-4285-867e-e2192d43fe29",
   "metadata": {
    "jp-MarkdownHeadingCollapsed": true
   },
   "source": [
    "## KNN (MinMaxScaler and Standard, No Dummy Dropping)"
   ]
  },
  {
   "cell_type": "code",
   "execution_count": 22,
   "id": "08ece86f-3d5a-43df-b17c-80dd2ed24b22",
   "metadata": {},
   "outputs": [
    {
     "name": "stdout",
     "output_type": "stream",
     "text": [
      "KNN_MM \n",
      "MAE: 159.60\n",
      "RMSE: 263.88\n",
      "R² Score: 0.5257\n",
      "Time: 3.44 sec\n"
     ]
    },
    {
     "name": "stderr",
     "output_type": "stream",
     "text": [
      "C:\\Users\\barba\\anaconda3\\Lib\\site-packages\\sklearn\\metrics\\_regression.py:492: FutureWarning: 'squared' is deprecated in version 1.4 and will be removed in 1.6. To calculate the root mean squared error, use the function'root_mean_squared_error'.\n",
      "  warnings.warn(\n"
     ]
    }
   ],
   "source": [
    "knn_mm = KNeighborsRegressor(n_neighbors=5)\n",
    "evaluate_model(\"KNN_MM\", knn_mm, X_train_minmax, X_test_minmax, y_train, y_test)"
   ]
  },
  {
   "cell_type": "code",
   "execution_count": 23,
   "id": "14b8dc44-de8f-4b40-ae5e-f3741fd0c821",
   "metadata": {},
   "outputs": [
    {
     "name": "stdout",
     "output_type": "stream",
     "text": [
      "KNN_ST \n",
      "MAE: 93.56\n",
      "RMSE: 151.03\n",
      "R² Score: 0.8446\n",
      "Time: 3.23 sec\n"
     ]
    },
    {
     "name": "stderr",
     "output_type": "stream",
     "text": [
      "C:\\Users\\barba\\anaconda3\\Lib\\site-packages\\sklearn\\metrics\\_regression.py:492: FutureWarning: 'squared' is deprecated in version 1.4 and will be removed in 1.6. To calculate the root mean squared error, use the function'root_mean_squared_error'.\n",
      "  warnings.warn(\n"
     ]
    }
   ],
   "source": [
    "knn_st = KNeighborsRegressor(n_neighbors=5)\n",
    "evaluate_model(\"KNN_ST\", knn_st, X_train_standard, X_test_standard, y_train, y_test)"
   ]
  },
  {
   "cell_type": "markdown",
   "id": "15c0cee9-0383-4369-92bf-226baaf7888c",
   "metadata": {
    "jp-MarkdownHeadingCollapsed": true
   },
   "source": [
    "## Linear Regression (MinMaxScaler and Standard, Dummy Dropping and No Dummy Dropping)"
   ]
  },
  {
   "cell_type": "code",
   "execution_count": 25,
   "id": "1a475911-e0d4-48ae-84ac-9fc1776be780",
   "metadata": {},
   "outputs": [
    {
     "name": "stdout",
     "output_type": "stream",
     "text": [
      "LinearRegression_ND_MM \n",
      "MAE: 92.94\n",
      "RMSE: 140.41\n",
      "R² Score: 0.8657\n",
      "Time: 0.34 sec\n"
     ]
    },
    {
     "name": "stderr",
     "output_type": "stream",
     "text": [
      "C:\\Users\\barba\\anaconda3\\Lib\\site-packages\\sklearn\\metrics\\_regression.py:492: FutureWarning: 'squared' is deprecated in version 1.4 and will be removed in 1.6. To calculate the root mean squared error, use the function'root_mean_squared_error'.\n",
      "  warnings.warn(\n"
     ]
    }
   ],
   "source": [
    "# No Dropping - MinMaxScaler\n",
    "lr1 = LinearRegression()\n",
    "evaluate_model(\"LinearRegression_ND_MM\", lr1, X_train_minmax, X_test_minmax, y_train, y_test)"
   ]
  },
  {
   "cell_type": "code",
   "execution_count": 26,
   "id": "d59dff12-6b21-4b2c-b024-dd4fde83a155",
   "metadata": {},
   "outputs": [
    {
     "name": "stdout",
     "output_type": "stream",
     "text": [
      "LinearRegression_ND_St \n",
      "MAE: 92.95\n",
      "RMSE: 140.42\n",
      "R² Score: 0.8657\n",
      "Time: 0.38 sec\n"
     ]
    },
    {
     "name": "stderr",
     "output_type": "stream",
     "text": [
      "C:\\Users\\barba\\anaconda3\\Lib\\site-packages\\sklearn\\metrics\\_regression.py:492: FutureWarning: 'squared' is deprecated in version 1.4 and will be removed in 1.6. To calculate the root mean squared error, use the function'root_mean_squared_error'.\n",
      "  warnings.warn(\n"
     ]
    }
   ],
   "source": [
    "# No Dropping - Standard\n",
    "lr2 = LinearRegression()\n",
    "evaluate_model(\"LinearRegression_ND_St\", lr2, X_train_standard, X_test_standard, y_train, y_test)"
   ]
  },
  {
   "cell_type": "code",
   "execution_count": 27,
   "id": "781bdc93-1e7c-42a7-8456-5859faea8005",
   "metadata": {},
   "outputs": [
    {
     "name": "stdout",
     "output_type": "stream",
     "text": [
      "LinearRegression_Dr_MinMax \n",
      "MAE: 92.95\n",
      "RMSE: 140.42\n",
      "R² Score: 0.8657\n",
      "Time: 0.30 sec\n"
     ]
    },
    {
     "name": "stderr",
     "output_type": "stream",
     "text": [
      "C:\\Users\\barba\\anaconda3\\Lib\\site-packages\\sklearn\\metrics\\_regression.py:492: FutureWarning: 'squared' is deprecated in version 1.4 and will be removed in 1.6. To calculate the root mean squared error, use the function'root_mean_squared_error'.\n",
      "  warnings.warn(\n"
     ]
    }
   ],
   "source": [
    "# Dropping - MinMaxScaler\n",
    "lr3 = LinearRegression()\n",
    "evaluate_model(\"LinearRegression_Dr_MinMax\", lr3, X_train_drop_minmax, X_test_drop_minmax, y_train, y_test)"
   ]
  },
  {
   "cell_type": "code",
   "execution_count": 28,
   "id": "8d74896e-7c74-4676-8bc4-aa939e5d42ee",
   "metadata": {},
   "outputs": [
    {
     "name": "stdout",
     "output_type": "stream",
     "text": [
      "LinearRegression_Dr_St \n",
      "MAE: 92.95\n",
      "RMSE: 140.42\n",
      "R² Score: 0.8657\n",
      "Time: 0.32 sec\n"
     ]
    },
    {
     "name": "stderr",
     "output_type": "stream",
     "text": [
      "C:\\Users\\barba\\anaconda3\\Lib\\site-packages\\sklearn\\metrics\\_regression.py:492: FutureWarning: 'squared' is deprecated in version 1.4 and will be removed in 1.6. To calculate the root mean squared error, use the function'root_mean_squared_error'.\n",
      "  warnings.warn(\n"
     ]
    }
   ],
   "source": [
    "# Dropping - Standard\n",
    "lr4 = LinearRegression()\n",
    "evaluate_model(\"LinearRegression_Dr_St\", lr4, X_train_drop_standard, X_test_drop_standard, y_train, y_test)"
   ]
  },
  {
   "cell_type": "markdown",
   "id": "16a79443-e24c-425a-814f-b086803ae2d1",
   "metadata": {
    "jp-MarkdownHeadingCollapsed": true
   },
   "source": [
    "## Decision Tree (No Dummy Dropping - Scaling and No Scaling)"
   ]
  },
  {
   "cell_type": "code",
   "execution_count": 30,
   "id": "067a0ad0-e805-4c63-910f-f68037c8aa6a",
   "metadata": {},
   "outputs": [
    {
     "name": "stdout",
     "output_type": "stream",
     "text": [
      "DecisionTree \n",
      "MAE: 80.44\n",
      "RMSE: 137.40\n",
      "R² Score: 0.8714\n",
      "Time: 0.50 sec\n"
     ]
    },
    {
     "name": "stderr",
     "output_type": "stream",
     "text": [
      "C:\\Users\\barba\\anaconda3\\Lib\\site-packages\\sklearn\\metrics\\_regression.py:492: FutureWarning: 'squared' is deprecated in version 1.4 and will be removed in 1.6. To calculate the root mean squared error, use the function'root_mean_squared_error'.\n",
      "  warnings.warn(\n"
     ]
    }
   ],
   "source": [
    "dt1 = DecisionTreeRegressor(max_depth=10)\n",
    "evaluate_model(\"DecisionTree\", dt1, X_train, X_test, y_train, y_test)"
   ]
  },
  {
   "cell_type": "code",
   "execution_count": 31,
   "id": "241b6505-3efc-4dcf-8d7d-54cffc35933e",
   "metadata": {},
   "outputs": [
    {
     "name": "stdout",
     "output_type": "stream",
     "text": [
      "DecisionTree_MM \n",
      "MAE: 80.31\n",
      "RMSE: 136.15\n",
      "R² Score: 0.8738\n",
      "Time: 0.48 sec\n"
     ]
    },
    {
     "name": "stderr",
     "output_type": "stream",
     "text": [
      "C:\\Users\\barba\\anaconda3\\Lib\\site-packages\\sklearn\\metrics\\_regression.py:492: FutureWarning: 'squared' is deprecated in version 1.4 and will be removed in 1.6. To calculate the root mean squared error, use the function'root_mean_squared_error'.\n",
      "  warnings.warn(\n"
     ]
    }
   ],
   "source": [
    "dt2 = DecisionTreeRegressor(max_depth=10)\n",
    "evaluate_model(\"DecisionTree_MM\", dt2, X_train_minmax, X_test_minmax, y_train, y_test)"
   ]
  },
  {
   "cell_type": "code",
   "execution_count": 32,
   "id": "036be348-c7b3-4505-b1e9-a4d6b8fb6e8d",
   "metadata": {},
   "outputs": [
    {
     "name": "stdout",
     "output_type": "stream",
     "text": [
      "DecisionTree_St \n",
      "MAE: 80.66\n",
      "RMSE: 140.89\n",
      "R² Score: 0.8648\n",
      "Time: 0.68 sec\n"
     ]
    },
    {
     "name": "stderr",
     "output_type": "stream",
     "text": [
      "C:\\Users\\barba\\anaconda3\\Lib\\site-packages\\sklearn\\metrics\\_regression.py:492: FutureWarning: 'squared' is deprecated in version 1.4 and will be removed in 1.6. To calculate the root mean squared error, use the function'root_mean_squared_error'.\n",
      "  warnings.warn(\n"
     ]
    }
   ],
   "source": [
    "dt3 = DecisionTreeRegressor(max_depth=10)\n",
    "evaluate_model(\"DecisionTree_St\", dt3, X_train_standard, X_test_standard, y_train, y_test)"
   ]
  },
  {
   "cell_type": "markdown",
   "id": "74702d27-a08a-4189-a71b-5289c7b7a924",
   "metadata": {
    "jp-MarkdownHeadingCollapsed": true
   },
   "source": [
    "## Random Forest (No Dummy Dropping - Scaling and No Scaling)"
   ]
  },
  {
   "cell_type": "code",
   "execution_count": 34,
   "id": "3386c76b-763f-4be4-8472-e2e2ca8da9dc",
   "metadata": {},
   "outputs": [
    {
     "name": "stdout",
     "output_type": "stream",
     "text": [
      "RandomForest \n",
      "MAE: 73.49\n",
      "RMSE: 119.65\n",
      "R² Score: 0.9025\n",
      "Time: 37.25 sec\n"
     ]
    },
    {
     "name": "stderr",
     "output_type": "stream",
     "text": [
      "C:\\Users\\barba\\anaconda3\\Lib\\site-packages\\sklearn\\metrics\\_regression.py:492: FutureWarning: 'squared' is deprecated in version 1.4 and will be removed in 1.6. To calculate the root mean squared error, use the function'root_mean_squared_error'.\n",
      "  warnings.warn(\n"
     ]
    }
   ],
   "source": [
    "rf1 = RandomForestRegressor(n_estimators=100, max_depth=10, random_state=42)\n",
    "evaluate_model(\"RandomForest\", rf1, X_train, X_test, y_train, y_test)"
   ]
  },
  {
   "cell_type": "code",
   "execution_count": 35,
   "id": "23c51918-0a48-4efd-9fed-84533dcacd1b",
   "metadata": {},
   "outputs": [
    {
     "name": "stdout",
     "output_type": "stream",
     "text": [
      "RandomForest_MM \n",
      "MAE: 73.49\n",
      "RMSE: 119.64\n",
      "R² Score: 0.9025\n",
      "Time: 34.60 sec\n"
     ]
    },
    {
     "name": "stderr",
     "output_type": "stream",
     "text": [
      "C:\\Users\\barba\\anaconda3\\Lib\\site-packages\\sklearn\\metrics\\_regression.py:492: FutureWarning: 'squared' is deprecated in version 1.4 and will be removed in 1.6. To calculate the root mean squared error, use the function'root_mean_squared_error'.\n",
      "  warnings.warn(\n"
     ]
    }
   ],
   "source": [
    "rf2 = RandomForestRegressor(n_estimators=100, max_depth=10, random_state=42)\n",
    "evaluate_model(\"RandomForest_MM\", rf2, X_train_minmax, X_test_minmax, y_train, y_test)"
   ]
  },
  {
   "cell_type": "code",
   "execution_count": 36,
   "id": "86952b17-80a4-489e-9940-e9012d716363",
   "metadata": {},
   "outputs": [
    {
     "name": "stdout",
     "output_type": "stream",
     "text": [
      "RandomForest_St \n",
      "MAE: 73.49\n",
      "RMSE: 119.59\n",
      "R² Score: 0.9026\n",
      "Time: 33.58 sec\n"
     ]
    },
    {
     "name": "stderr",
     "output_type": "stream",
     "text": [
      "C:\\Users\\barba\\anaconda3\\Lib\\site-packages\\sklearn\\metrics\\_regression.py:492: FutureWarning: 'squared' is deprecated in version 1.4 and will be removed in 1.6. To calculate the root mean squared error, use the function'root_mean_squared_error'.\n",
      "  warnings.warn(\n"
     ]
    }
   ],
   "source": [
    "rf3 = RandomForestRegressor(n_estimators=100, max_depth=10, random_state=42)\n",
    "evaluate_model(\"RandomForest_St\", rf3, X_train_standard, X_test_standard, y_train, y_test)"
   ]
  },
  {
   "cell_type": "markdown",
   "id": "53286d3f-5889-46c9-9cf1-cd224c7c918e",
   "metadata": {
    "jp-MarkdownHeadingCollapsed": true
   },
   "source": [
    "## Gradient Boosting (No Dummy Dropping - Scaling and No Scaling)"
   ]
  },
  {
   "cell_type": "code",
   "execution_count": 38,
   "id": "6e206d0e-12ed-4b04-8116-78688a7c0adf",
   "metadata": {},
   "outputs": [
    {
     "name": "stdout",
     "output_type": "stream",
     "text": [
      "GradientBoosting \n",
      "MAE: 68.17\n",
      "RMSE: 114.54\n",
      "R² Score: 0.9106\n",
      "Time: 47.64 sec\n"
     ]
    },
    {
     "name": "stderr",
     "output_type": "stream",
     "text": [
      "C:\\Users\\barba\\anaconda3\\Lib\\site-packages\\sklearn\\metrics\\_regression.py:492: FutureWarning: 'squared' is deprecated in version 1.4 and will be removed in 1.6. To calculate the root mean squared error, use the function'root_mean_squared_error'.\n",
      "  warnings.warn(\n"
     ]
    }
   ],
   "source": [
    "gb1 = GradientBoostingRegressor(n_estimators=100, learning_rate=0.1, max_depth=10, random_state=42)\n",
    "evaluate_model(\"GradientBoosting\", gb1, X_train, X_test, y_train, y_test)"
   ]
  },
  {
   "cell_type": "code",
   "execution_count": 39,
   "id": "801887cd-f4b7-4251-90d0-964e4695cb43",
   "metadata": {},
   "outputs": [
    {
     "name": "stdout",
     "output_type": "stream",
     "text": [
      "GradientBoosting_MM \n",
      "MAE: 68.16\n",
      "RMSE: 114.52\n",
      "R² Score: 0.9107\n",
      "Time: 47.42 sec\n"
     ]
    },
    {
     "name": "stderr",
     "output_type": "stream",
     "text": [
      "C:\\Users\\barba\\anaconda3\\Lib\\site-packages\\sklearn\\metrics\\_regression.py:492: FutureWarning: 'squared' is deprecated in version 1.4 and will be removed in 1.6. To calculate the root mean squared error, use the function'root_mean_squared_error'.\n",
      "  warnings.warn(\n"
     ]
    }
   ],
   "source": [
    "gb2 = GradientBoostingRegressor(n_estimators=100, learning_rate=0.1, max_depth=10, random_state=42)\n",
    "evaluate_model(\"GradientBoosting_MM\", gb2, X_train_minmax, X_test_minmax, y_train, y_test)"
   ]
  },
  {
   "cell_type": "code",
   "execution_count": 40,
   "id": "b937f797-b013-414f-abd4-eb83062ae6aa",
   "metadata": {},
   "outputs": [
    {
     "name": "stdout",
     "output_type": "stream",
     "text": [
      "GradientBoosting_St \n",
      "MAE: 68.16\n",
      "RMSE: 114.88\n",
      "R² Score: 0.9101\n",
      "Time: 44.76 sec\n"
     ]
    },
    {
     "name": "stderr",
     "output_type": "stream",
     "text": [
      "C:\\Users\\barba\\anaconda3\\Lib\\site-packages\\sklearn\\metrics\\_regression.py:492: FutureWarning: 'squared' is deprecated in version 1.4 and will be removed in 1.6. To calculate the root mean squared error, use the function'root_mean_squared_error'.\n",
      "  warnings.warn(\n"
     ]
    }
   ],
   "source": [
    "gb3 = GradientBoostingRegressor(n_estimators=100, learning_rate=0.1, max_depth=10, random_state=42)\n",
    "evaluate_model(\"GradientBoosting_St\", gb2, X_train_standard, X_test_standard, y_train, y_test)"
   ]
  },
  {
   "cell_type": "markdown",
   "id": "5ef8629a-0144-41af-bb2c-edd2db30e60d",
   "metadata": {
    "jp-MarkdownHeadingCollapsed": true
   },
   "source": [
    "## Bagging Regressor (No Dummy Dropping - Scaling and No Scaling)"
   ]
  },
  {
   "cell_type": "code",
   "execution_count": 42,
   "id": "a6e5c93f-7c33-44b5-a965-57890ca41274",
   "metadata": {},
   "outputs": [
    {
     "name": "stdout",
     "output_type": "stream",
     "text": [
      "BaggingRegressor \n",
      "MAE: 73.52\n",
      "RMSE: 119.73\n",
      "R² Score: 0.9024\n",
      "Time: 36.35 sec\n"
     ]
    },
    {
     "name": "stderr",
     "output_type": "stream",
     "text": [
      "C:\\Users\\barba\\anaconda3\\Lib\\site-packages\\sklearn\\metrics\\_regression.py:492: FutureWarning: 'squared' is deprecated in version 1.4 and will be removed in 1.6. To calculate the root mean squared error, use the function'root_mean_squared_error'.\n",
      "  warnings.warn(\n"
     ]
    }
   ],
   "source": [
    "bagging1 = BaggingRegressor(estimator=DecisionTreeRegressor(max_depth=10), n_estimators=100, random_state=42)\n",
    "evaluate_model(\"BaggingRegressor\", bagging1, X_train, X_test, y_train, y_test)"
   ]
  },
  {
   "cell_type": "code",
   "execution_count": 43,
   "id": "88a12a64-d826-46f3-8c4b-192a89b66d43",
   "metadata": {},
   "outputs": [
    {
     "name": "stdout",
     "output_type": "stream",
     "text": [
      "BaggingRegressor_MM \n",
      "MAE: 73.53\n",
      "RMSE: 119.73\n",
      "R² Score: 0.9024\n",
      "Time: 33.98 sec\n"
     ]
    },
    {
     "name": "stderr",
     "output_type": "stream",
     "text": [
      "C:\\Users\\barba\\anaconda3\\Lib\\site-packages\\sklearn\\metrics\\_regression.py:492: FutureWarning: 'squared' is deprecated in version 1.4 and will be removed in 1.6. To calculate the root mean squared error, use the function'root_mean_squared_error'.\n",
      "  warnings.warn(\n"
     ]
    }
   ],
   "source": [
    "bagging2 = BaggingRegressor(estimator=DecisionTreeRegressor(max_depth=10), n_estimators=100, random_state=42)\n",
    "evaluate_model(\"BaggingRegressor_MM\", bagging2, X_train_minmax, X_test_minmax, y_train, y_test)"
   ]
  },
  {
   "cell_type": "code",
   "execution_count": 44,
   "id": "6119b820-9f5c-4395-aa51-80324e169e72",
   "metadata": {},
   "outputs": [
    {
     "name": "stdout",
     "output_type": "stream",
     "text": [
      "BaggingRegressor_St \n",
      "MAE: 73.51\n",
      "RMSE: 119.63\n",
      "R² Score: 0.9025\n",
      "Time: 35.05 sec\n"
     ]
    },
    {
     "name": "stderr",
     "output_type": "stream",
     "text": [
      "C:\\Users\\barba\\anaconda3\\Lib\\site-packages\\sklearn\\metrics\\_regression.py:492: FutureWarning: 'squared' is deprecated in version 1.4 and will be removed in 1.6. To calculate the root mean squared error, use the function'root_mean_squared_error'.\n",
      "  warnings.warn(\n"
     ]
    }
   ],
   "source": [
    "bagging3 = BaggingRegressor(estimator=DecisionTreeRegressor(max_depth=10), n_estimators=100, random_state=42)\n",
    "evaluate_model(\"BaggingRegressor_St\", bagging3, X_train_standard, X_test_standard, y_train, y_test)"
   ]
  },
  {
   "cell_type": "markdown",
   "id": "a1e2087b-2697-474a-bd02-55c95608c361",
   "metadata": {
    "jp-MarkdownHeadingCollapsed": true
   },
   "source": [
    "## AdaBoost Regressor (No Dummy Dropping - Scaling and No Scaling)"
   ]
  },
  {
   "cell_type": "code",
   "execution_count": 46,
   "id": "19f17c1b-6df5-4f78-b489-7c7e82b8e16d",
   "metadata": {},
   "outputs": [
    {
     "name": "stdout",
     "output_type": "stream",
     "text": [
      "AdaBoostRegressor \n",
      "MAE: 73.82\n",
      "RMSE: 120.06\n",
      "R² Score: 0.9018\n",
      "Time: 59.44 sec\n"
     ]
    },
    {
     "name": "stderr",
     "output_type": "stream",
     "text": [
      "C:\\Users\\barba\\anaconda3\\Lib\\site-packages\\sklearn\\metrics\\_regression.py:492: FutureWarning: 'squared' is deprecated in version 1.4 and will be removed in 1.6. To calculate the root mean squared error, use the function'root_mean_squared_error'.\n",
      "  warnings.warn(\n"
     ]
    }
   ],
   "source": [
    "ada1 = AdaBoostRegressor(estimator=DecisionTreeRegressor(max_depth=10), n_estimators=100, learning_rate=0.1, random_state=42)\n",
    "evaluate_model(\"AdaBoostRegressor\", ada1, X_train, X_test, y_train, y_test)"
   ]
  },
  {
   "cell_type": "code",
   "execution_count": 47,
   "id": "5ada3d03-9fd7-4fb4-82eb-9edb58cb7a7f",
   "metadata": {},
   "outputs": [
    {
     "name": "stdout",
     "output_type": "stream",
     "text": [
      "AdaBoostRegressor \n",
      "MAE: 73.77\n",
      "RMSE: 119.10\n",
      "R² Score: 0.9034\n",
      "Time: 56.78 sec\n"
     ]
    },
    {
     "name": "stderr",
     "output_type": "stream",
     "text": [
      "C:\\Users\\barba\\anaconda3\\Lib\\site-packages\\sklearn\\metrics\\_regression.py:492: FutureWarning: 'squared' is deprecated in version 1.4 and will be removed in 1.6. To calculate the root mean squared error, use the function'root_mean_squared_error'.\n",
      "  warnings.warn(\n"
     ]
    }
   ],
   "source": [
    "ada2 = AdaBoostRegressor(estimator=DecisionTreeRegressor(max_depth=10), n_estimators=100, learning_rate=0.1, random_state=42)\n",
    "evaluate_model(\"AdaBoostRegressor\", ada2, X_train_minmax, X_test_minmax, y_train, y_test)"
   ]
  },
  {
   "cell_type": "code",
   "execution_count": 48,
   "id": "887d4922-0759-4964-842a-2a095ff32307",
   "metadata": {},
   "outputs": [
    {
     "name": "stdout",
     "output_type": "stream",
     "text": [
      "AdaBoostRegressor \n",
      "MAE: 73.79\n",
      "RMSE: 119.38\n",
      "R² Score: 0.9029\n",
      "Time: 63.89 sec\n"
     ]
    },
    {
     "name": "stderr",
     "output_type": "stream",
     "text": [
      "C:\\Users\\barba\\anaconda3\\Lib\\site-packages\\sklearn\\metrics\\_regression.py:492: FutureWarning: 'squared' is deprecated in version 1.4 and will be removed in 1.6. To calculate the root mean squared error, use the function'root_mean_squared_error'.\n",
      "  warnings.warn(\n"
     ]
    }
   ],
   "source": [
    "ada3 = AdaBoostRegressor(estimator=DecisionTreeRegressor(max_depth=10), n_estimators=100, learning_rate=0.1, random_state=42)\n",
    "evaluate_model(\"AdaBoostRegressor\", ada3, X_train_standard, X_test_standard, y_train, y_test)"
   ]
  },
  {
   "cell_type": "markdown",
   "id": "fe4e6e6b-e552-4ea6-b892-b777ceea69e6",
   "metadata": {
    "jp-MarkdownHeadingCollapsed": true
   },
   "source": [
    "## XGBoost (No Dummy Dropping - Scaling and No Scaling)"
   ]
  },
  {
   "cell_type": "code",
   "execution_count": 50,
   "id": "71ab9fbc-e0a7-4e24-a725-c0d96ea96f07",
   "metadata": {},
   "outputs": [
    {
     "name": "stdout",
     "output_type": "stream",
     "text": [
      "XGBoost \n",
      "MAE: 68.18\n",
      "RMSE: 115.41\n",
      "R² Score: 0.9093\n",
      "Time: 3.02 sec\n"
     ]
    },
    {
     "name": "stderr",
     "output_type": "stream",
     "text": [
      "C:\\Users\\barba\\anaconda3\\Lib\\site-packages\\sklearn\\metrics\\_regression.py:492: FutureWarning: 'squared' is deprecated in version 1.4 and will be removed in 1.6. To calculate the root mean squared error, use the function'root_mean_squared_error'.\n",
      "  warnings.warn(\n"
     ]
    }
   ],
   "source": [
    "xgboost = xgb.XGBRegressor(n_estimators=100, learning_rate=0.1, max_depth=10, random_state=42)\n",
    "evaluate_model(\"XGBoost\", xgboost, X_train, X_test, y_train, y_test)"
   ]
  },
  {
   "cell_type": "code",
   "execution_count": 51,
   "id": "95609a7a-dec8-4923-8c33-ff364b438b3e",
   "metadata": {},
   "outputs": [
    {
     "name": "stdout",
     "output_type": "stream",
     "text": [
      "XGBoost_MM \n",
      "MAE: 68.18\n",
      "RMSE: 115.41\n",
      "R² Score: 0.9093\n",
      "Time: 2.48 sec\n"
     ]
    },
    {
     "name": "stderr",
     "output_type": "stream",
     "text": [
      "C:\\Users\\barba\\anaconda3\\Lib\\site-packages\\sklearn\\metrics\\_regression.py:492: FutureWarning: 'squared' is deprecated in version 1.4 and will be removed in 1.6. To calculate the root mean squared error, use the function'root_mean_squared_error'.\n",
      "  warnings.warn(\n"
     ]
    }
   ],
   "source": [
    "xgboost = xgb.XGBRegressor(n_estimators=100, learning_rate=0.1, max_depth=10, random_state=42)\n",
    "evaluate_model(\"XGBoost_MM\", xgboost, X_train_minmax, X_test_minmax, y_train, y_test)"
   ]
  },
  {
   "cell_type": "code",
   "execution_count": 52,
   "id": "9705748d-7726-4353-b83b-479fea3a7caf",
   "metadata": {},
   "outputs": [
    {
     "name": "stdout",
     "output_type": "stream",
     "text": [
      "XGBoost_St \n",
      "MAE: 68.18\n",
      "RMSE: 115.41\n",
      "R² Score: 0.9093\n",
      "Time: 3.44 sec\n"
     ]
    },
    {
     "name": "stderr",
     "output_type": "stream",
     "text": [
      "C:\\Users\\barba\\anaconda3\\Lib\\site-packages\\sklearn\\metrics\\_regression.py:492: FutureWarning: 'squared' is deprecated in version 1.4 and will be removed in 1.6. To calculate the root mean squared error, use the function'root_mean_squared_error'.\n",
      "  warnings.warn(\n"
     ]
    }
   ],
   "source": [
    "xgboost = xgb.XGBRegressor(n_estimators=100, learning_rate=0.1, max_depth=10, random_state=42)\n",
    "evaluate_model(\"XGBoost_St\", xgboost, X_train_standard, X_test_standard, y_train, y_test)"
   ]
  },
  {
   "cell_type": "markdown",
   "id": "d39e695e-d95c-498e-b525-6bf0799df09d",
   "metadata": {
    "jp-MarkdownHeadingCollapsed": true
   },
   "source": [
    "## LightGBM (No Dummy Dropping - Scaling and No Scaling)"
   ]
  },
  {
   "cell_type": "code",
   "execution_count": 54,
   "id": "a97f5837-dfab-4e79-a449-b6e13bcf05af",
   "metadata": {},
   "outputs": [
    {
     "name": "stdout",
     "output_type": "stream",
     "text": [
      "[LightGBM] [Warning] Found whitespace in feature_names, replace with underlines\n",
      "[LightGBM] [Info] Auto-choosing row-wise multi-threading, the overhead of testing was 0.005388 seconds.\n",
      "You can set `force_row_wise=true` to remove the overhead.\n",
      "And if memory is not enough, you can set `force_col_wise=true`.\n",
      "[LightGBM] [Info] Total Bins 1145\n",
      "[LightGBM] [Info] Number of data points in the train set: 58584, number of used features: 63\n",
      "[LightGBM] [Info] Start training from score 600.815422\n",
      "LightGBM \n",
      "MAE: 69.97\n",
      "RMSE: 113.53\n",
      "R² Score: 0.9122\n",
      "Time: 0.55 sec\n"
     ]
    },
    {
     "name": "stderr",
     "output_type": "stream",
     "text": [
      "C:\\Users\\barba\\anaconda3\\Lib\\site-packages\\sklearn\\metrics\\_regression.py:492: FutureWarning: 'squared' is deprecated in version 1.4 and will be removed in 1.6. To calculate the root mean squared error, use the function'root_mean_squared_error'.\n",
      "  warnings.warn(\n"
     ]
    }
   ],
   "source": [
    "lgbm1 = lgb.LGBMRegressor(n_estimators=100, learning_rate=0.1, random_state=42)\n",
    "evaluate_model(\"LightGBM\", lgbm1, X_train, X_test, y_train, y_test)"
   ]
  },
  {
   "cell_type": "code",
   "execution_count": 55,
   "id": "57030402-06bd-46eb-996d-b48f24ef5188",
   "metadata": {},
   "outputs": [
    {
     "name": "stdout",
     "output_type": "stream",
     "text": [
      "[LightGBM] [Info] Auto-choosing row-wise multi-threading, the overhead of testing was 0.007245 seconds.\n",
      "You can set `force_row_wise=true` to remove the overhead.\n",
      "And if memory is not enough, you can set `force_col_wise=true`.\n",
      "[LightGBM] [Info] Total Bins 1144\n",
      "[LightGBM] [Info] Number of data points in the train set: 58584, number of used features: 63\n",
      "[LightGBM] [Info] Start training from score 600.815422\n",
      "LightGBM_MM \n",
      "MAE: 69.99\n",
      "RMSE: 113.83\n",
      "R² Score: 0.9117\n",
      "Time: 0.62 sec\n"
     ]
    },
    {
     "name": "stderr",
     "output_type": "stream",
     "text": [
      "C:\\Users\\barba\\anaconda3\\Lib\\site-packages\\sklearn\\metrics\\_regression.py:492: FutureWarning: 'squared' is deprecated in version 1.4 and will be removed in 1.6. To calculate the root mean squared error, use the function'root_mean_squared_error'.\n",
      "  warnings.warn(\n"
     ]
    }
   ],
   "source": [
    "lgbm2 = lgb.LGBMRegressor(n_estimators=100, learning_rate=0.1, random_state=42)\n",
    "evaluate_model(\"LightGBM_MM\", lgbm2, X_train_minmax, X_test_minmax, y_train, y_test)"
   ]
  },
  {
   "cell_type": "code",
   "execution_count": 56,
   "id": "643c0747-ba4c-4f01-82f2-884eabd03a86",
   "metadata": {},
   "outputs": [
    {
     "name": "stdout",
     "output_type": "stream",
     "text": [
      "[LightGBM] [Warning] Found whitespace in feature_names, replace with underlines\n",
      "[LightGBM] [Info] Auto-choosing row-wise multi-threading, the overhead of testing was 0.004454 seconds.\n",
      "You can set `force_row_wise=true` to remove the overhead.\n",
      "And if memory is not enough, you can set `force_col_wise=true`.\n",
      "[LightGBM] [Info] Total Bins 1164\n",
      "[LightGBM] [Info] Number of data points in the train set: 58584, number of used features: 63\n",
      "[LightGBM] [Info] Start training from score 600.815422\n",
      "LightGBM_St \n",
      "MAE: 69.81\n",
      "RMSE: 113.12\n",
      "R² Score: 0.9129\n",
      "Time: 0.61 sec\n"
     ]
    },
    {
     "name": "stderr",
     "output_type": "stream",
     "text": [
      "C:\\Users\\barba\\anaconda3\\Lib\\site-packages\\sklearn\\metrics\\_regression.py:492: FutureWarning: 'squared' is deprecated in version 1.4 and will be removed in 1.6. To calculate the root mean squared error, use the function'root_mean_squared_error'.\n",
      "  warnings.warn(\n"
     ]
    }
   ],
   "source": [
    "lgbm3 = lgb.LGBMRegressor(n_estimators=100, learning_rate=0.1, random_state=42)\n",
    "evaluate_model(\"LightGBM_St\", lgbm3, X_train_standard, X_test_standard, y_train, y_test)"
   ]
  },
  {
   "cell_type": "markdown",
   "id": "2e56ae6a-eabc-4295-8e28-7c14bb48c8a7",
   "metadata": {
    "jp-MarkdownHeadingCollapsed": true
   },
   "source": [
    "# Compare Results in a Table"
   ]
  },
  {
   "cell_type": "code",
   "execution_count": 58,
   "id": "2096acef-255b-4817-a941-3e387e61b252",
   "metadata": {},
   "outputs": [
    {
     "data": {
      "text/html": [
       "<div>\n",
       "<style scoped>\n",
       "    .dataframe tbody tr th:only-of-type {\n",
       "        vertical-align: middle;\n",
       "    }\n",
       "\n",
       "    .dataframe tbody tr th {\n",
       "        vertical-align: top;\n",
       "    }\n",
       "\n",
       "    .dataframe thead th {\n",
       "        text-align: right;\n",
       "    }\n",
       "</style>\n",
       "<table border=\"1\" class=\"dataframe\">\n",
       "  <thead>\n",
       "    <tr style=\"text-align: right;\">\n",
       "      <th></th>\n",
       "      <th>MAE</th>\n",
       "      <th>RMSE</th>\n",
       "      <th>R2</th>\n",
       "      <th>Time</th>\n",
       "    </tr>\n",
       "  </thead>\n",
       "  <tbody>\n",
       "    <tr>\n",
       "      <th>LightGBM_St</th>\n",
       "      <td>69.814819</td>\n",
       "      <td>113.116239</td>\n",
       "      <td>0.912853</td>\n",
       "      <td>0.609259</td>\n",
       "    </tr>\n",
       "    <tr>\n",
       "      <th>LightGBM</th>\n",
       "      <td>69.967383</td>\n",
       "      <td>113.531887</td>\n",
       "      <td>0.912212</td>\n",
       "      <td>0.546262</td>\n",
       "    </tr>\n",
       "    <tr>\n",
       "      <th>LightGBM_MM</th>\n",
       "      <td>69.990007</td>\n",
       "      <td>113.831215</td>\n",
       "      <td>0.911748</td>\n",
       "      <td>0.622253</td>\n",
       "    </tr>\n",
       "    <tr>\n",
       "      <th>GradientBoosting_MM</th>\n",
       "      <td>68.163190</td>\n",
       "      <td>114.516823</td>\n",
       "      <td>0.910682</td>\n",
       "      <td>47.422780</td>\n",
       "    </tr>\n",
       "    <tr>\n",
       "      <th>GradientBoosting</th>\n",
       "      <td>68.170961</td>\n",
       "      <td>114.542055</td>\n",
       "      <td>0.910643</td>\n",
       "      <td>47.636270</td>\n",
       "    </tr>\n",
       "    <tr>\n",
       "      <th>GradientBoosting_St</th>\n",
       "      <td>68.156079</td>\n",
       "      <td>114.879649</td>\n",
       "      <td>0.910115</td>\n",
       "      <td>44.756332</td>\n",
       "    </tr>\n",
       "    <tr>\n",
       "      <th>XGBoost</th>\n",
       "      <td>68.179032</td>\n",
       "      <td>115.408855</td>\n",
       "      <td>0.909285</td>\n",
       "      <td>3.020665</td>\n",
       "    </tr>\n",
       "    <tr>\n",
       "      <th>XGBoost_St</th>\n",
       "      <td>68.179032</td>\n",
       "      <td>115.408855</td>\n",
       "      <td>0.909285</td>\n",
       "      <td>3.435692</td>\n",
       "    </tr>\n",
       "    <tr>\n",
       "      <th>XGBoost_MM</th>\n",
       "      <td>68.179032</td>\n",
       "      <td>115.408855</td>\n",
       "      <td>0.909285</td>\n",
       "      <td>2.478265</td>\n",
       "    </tr>\n",
       "    <tr>\n",
       "      <th>AdaBoostRegressor</th>\n",
       "      <td>73.794132</td>\n",
       "      <td>119.384919</td>\n",
       "      <td>0.902927</td>\n",
       "      <td>63.891348</td>\n",
       "    </tr>\n",
       "    <tr>\n",
       "      <th>RandomForest_St</th>\n",
       "      <td>73.485524</td>\n",
       "      <td>119.594136</td>\n",
       "      <td>0.902586</td>\n",
       "      <td>33.583044</td>\n",
       "    </tr>\n",
       "    <tr>\n",
       "      <th>BaggingRegressor_St</th>\n",
       "      <td>73.513548</td>\n",
       "      <td>119.628454</td>\n",
       "      <td>0.902530</td>\n",
       "      <td>35.054753</td>\n",
       "    </tr>\n",
       "    <tr>\n",
       "      <th>RandomForest_MM</th>\n",
       "      <td>73.490991</td>\n",
       "      <td>119.643402</td>\n",
       "      <td>0.902506</td>\n",
       "      <td>34.595006</td>\n",
       "    </tr>\n",
       "    <tr>\n",
       "      <th>RandomForest</th>\n",
       "      <td>73.493800</td>\n",
       "      <td>119.648840</td>\n",
       "      <td>0.902497</td>\n",
       "      <td>37.250091</td>\n",
       "    </tr>\n",
       "    <tr>\n",
       "      <th>BaggingRegressor</th>\n",
       "      <td>73.524138</td>\n",
       "      <td>119.731223</td>\n",
       "      <td>0.902363</td>\n",
       "      <td>36.350775</td>\n",
       "    </tr>\n",
       "    <tr>\n",
       "      <th>BaggingRegressor_MM</th>\n",
       "      <td>73.526143</td>\n",
       "      <td>119.732020</td>\n",
       "      <td>0.902362</td>\n",
       "      <td>33.975787</td>\n",
       "    </tr>\n",
       "    <tr>\n",
       "      <th>DecisionTree_MM</th>\n",
       "      <td>80.306537</td>\n",
       "      <td>136.146383</td>\n",
       "      <td>0.873756</td>\n",
       "      <td>0.481058</td>\n",
       "    </tr>\n",
       "    <tr>\n",
       "      <th>DecisionTree</th>\n",
       "      <td>80.441747</td>\n",
       "      <td>137.395423</td>\n",
       "      <td>0.871428</td>\n",
       "      <td>0.504040</td>\n",
       "    </tr>\n",
       "    <tr>\n",
       "      <th>LinearRegression_ND_MM</th>\n",
       "      <td>92.940070</td>\n",
       "      <td>140.406605</td>\n",
       "      <td>0.865731</td>\n",
       "      <td>0.339323</td>\n",
       "    </tr>\n",
       "    <tr>\n",
       "      <th>LinearRegression_Dr_St</th>\n",
       "      <td>92.947129</td>\n",
       "      <td>140.415287</td>\n",
       "      <td>0.865715</td>\n",
       "      <td>0.321333</td>\n",
       "    </tr>\n",
       "    <tr>\n",
       "      <th>LinearRegression_Dr_MinMax</th>\n",
       "      <td>92.947129</td>\n",
       "      <td>140.415287</td>\n",
       "      <td>0.865715</td>\n",
       "      <td>0.300627</td>\n",
       "    </tr>\n",
       "    <tr>\n",
       "      <th>LinearRegression_ND_St</th>\n",
       "      <td>92.947116</td>\n",
       "      <td>140.415288</td>\n",
       "      <td>0.865715</td>\n",
       "      <td>0.384114</td>\n",
       "    </tr>\n",
       "    <tr>\n",
       "      <th>DecisionTree_St</th>\n",
       "      <td>80.660907</td>\n",
       "      <td>140.892194</td>\n",
       "      <td>0.864801</td>\n",
       "      <td>0.684614</td>\n",
       "    </tr>\n",
       "    <tr>\n",
       "      <th>KNN_ST</th>\n",
       "      <td>93.558698</td>\n",
       "      <td>151.032736</td>\n",
       "      <td>0.844639</td>\n",
       "      <td>3.231748</td>\n",
       "    </tr>\n",
       "    <tr>\n",
       "      <th>KNN_MM</th>\n",
       "      <td>159.597545</td>\n",
       "      <td>263.881386</td>\n",
       "      <td>0.525739</td>\n",
       "      <td>3.435860</td>\n",
       "    </tr>\n",
       "  </tbody>\n",
       "</table>\n",
       "</div>"
      ],
      "text/plain": [
       "                                   MAE        RMSE        R2       Time\n",
       "LightGBM_St                  69.814819  113.116239  0.912853   0.609259\n",
       "LightGBM                     69.967383  113.531887  0.912212   0.546262\n",
       "LightGBM_MM                  69.990007  113.831215  0.911748   0.622253\n",
       "GradientBoosting_MM          68.163190  114.516823  0.910682  47.422780\n",
       "GradientBoosting             68.170961  114.542055  0.910643  47.636270\n",
       "GradientBoosting_St          68.156079  114.879649  0.910115  44.756332\n",
       "XGBoost                      68.179032  115.408855  0.909285   3.020665\n",
       "XGBoost_St                   68.179032  115.408855  0.909285   3.435692\n",
       "XGBoost_MM                   68.179032  115.408855  0.909285   2.478265\n",
       "AdaBoostRegressor            73.794132  119.384919  0.902927  63.891348\n",
       "RandomForest_St              73.485524  119.594136  0.902586  33.583044\n",
       "BaggingRegressor_St          73.513548  119.628454  0.902530  35.054753\n",
       "RandomForest_MM              73.490991  119.643402  0.902506  34.595006\n",
       "RandomForest                 73.493800  119.648840  0.902497  37.250091\n",
       "BaggingRegressor             73.524138  119.731223  0.902363  36.350775\n",
       "BaggingRegressor_MM          73.526143  119.732020  0.902362  33.975787\n",
       "DecisionTree_MM              80.306537  136.146383  0.873756   0.481058\n",
       "DecisionTree                 80.441747  137.395423  0.871428   0.504040\n",
       "LinearRegression_ND_MM       92.940070  140.406605  0.865731   0.339323\n",
       "LinearRegression_Dr_St       92.947129  140.415287  0.865715   0.321333\n",
       "LinearRegression_Dr_MinMax   92.947129  140.415287  0.865715   0.300627\n",
       "LinearRegression_ND_St       92.947116  140.415288  0.865715   0.384114\n",
       "DecisionTree_St              80.660907  140.892194  0.864801   0.684614\n",
       "KNN_ST                       93.558698  151.032736  0.844639   3.231748\n",
       "KNN_MM                      159.597545  263.881386  0.525739   3.435860"
      ]
     },
     "execution_count": 58,
     "metadata": {},
     "output_type": "execute_result"
    }
   ],
   "source": [
    "results_df = pd.DataFrame(results).T\n",
    "results_df.sort_values(by=\"R2\", ascending=False)"
   ]
  },
  {
   "cell_type": "markdown",
   "id": "81eac559-019d-42be-93b5-b9646c363ca2",
   "metadata": {
    "jp-MarkdownHeadingCollapsed": true
   },
   "source": [
    "# Hyperparameter"
   ]
  },
  {
   "cell_type": "code",
   "execution_count": 107,
   "id": "a59aa441-d133-43e3-a83c-660ea041b310",
   "metadata": {},
   "outputs": [
    {
     "name": "stdout",
     "output_type": "stream",
     "text": [
      "Fitting 5 folds for each of 81 candidates, totalling 405 fits\n",
      "[LightGBM] [Warning] Found whitespace in feature_names, replace with underlines\n",
      "[LightGBM] [Info] Auto-choosing row-wise multi-threading, the overhead of testing was 0.008484 seconds.\n",
      "You can set `force_row_wise=true` to remove the overhead.\n",
      "And if memory is not enough, you can set `force_col_wise=true`.\n",
      "[LightGBM] [Info] Total Bins 1164\n",
      "[LightGBM] [Info] Number of data points in the train set: 58584, number of used features: 63\n",
      "[LightGBM] [Info] Start training from score 600.815422\n",
      "[LightGBM] [Warning] No further splits with positive gain, best gain: -inf\n",
      "[LightGBM] [Warning] No further splits with positive gain, best gain: -inf\n",
      "[LightGBM] [Warning] No further splits with positive gain, best gain: -inf\n",
      "[LightGBM] [Warning] No further splits with positive gain, best gain: -inf\n",
      "[LightGBM] [Warning] No further splits with positive gain, best gain: -inf\n",
      "[LightGBM] [Warning] No further splits with positive gain, best gain: -inf\n",
      "[LightGBM] [Warning] No further splits with positive gain, best gain: -inf\n",
      "[LightGBM] [Warning] No further splits with positive gain, best gain: -inf\n",
      "[LightGBM] [Warning] No further splits with positive gain, best gain: -inf\n",
      "[LightGBM] [Warning] No further splits with positive gain, best gain: -inf\n",
      "[LightGBM] [Warning] No further splits with positive gain, best gain: -inf\n",
      "[LightGBM] [Warning] No further splits with positive gain, best gain: -inf\n",
      "[LightGBM] [Warning] No further splits with positive gain, best gain: -inf\n",
      "Total Training Time: 421.08 seconds\n",
      "Best Parameters: {'learning_rate': 0.1, 'max_depth': 10, 'n_estimators': 500, 'num_leaves': 50}\n",
      "Best MAE (Cross-Validation): 69.37\n"
     ]
    }
   ],
   "source": [
    "from sklearn.model_selection import GridSearchCV\n",
    "\n",
    "param_grid = {\n",
    "    'n_estimators': [100, 200, 500],\n",
    "    'learning_rate': [0.01, 0.05, 0.1],\n",
    "    'max_depth': [3, 5, 10],\n",
    "    'num_leaves': [20, 31, 50]\n",
    "}\n",
    "\n",
    "lgbm = LGBMRegressor(n_jobs=-1)\n",
    "\n",
    "grid_search = GridSearchCV(\n",
    "    estimator=lgbm,\n",
    "    param_grid=param_grid,\n",
    "    cv=5,\n",
    "    scoring='neg_mean_absolute_error',  # MAE as the metric\n",
    "    n_jobs=-1,\n",
    "    verbose=1\n",
    ")\n",
    "\n",
    "start_time = time.time()\n",
    "\n",
    "grid_search.fit(X_train_standard, y_train)\n",
    "\n",
    "end_time = time.time()\n",
    "elapsed_time = end_time - start_time\n",
    "\n",
    "best_params = grid_search.best_params_\n",
    "best_score = -grid_search.best_score_  # Negative because scikit-learn minimizes\n",
    "\n",
    "print(f\"Total Training Time: {elapsed_time:.2f} seconds\")\n",
    "print(f\"Best Parameters: {best_params}\")\n",
    "print(f\"Best MAE (Cross-Validation): {best_score:.2f}\")"
   ]
  },
  {
   "cell_type": "markdown",
   "id": "75498a49-d166-4488-8158-3d8a71e2ab9f",
   "metadata": {
    "jp-MarkdownHeadingCollapsed": true
   },
   "source": [
    "## LightGBM - Best Parameters"
   ]
  },
  {
   "cell_type": "code",
   "execution_count": 31,
   "id": "c9223af4-e6c3-4f50-b110-dc7a40a5be48",
   "metadata": {},
   "outputs": [
    {
     "name": "stdout",
     "output_type": "stream",
     "text": [
      "[LightGBM] [Warning] Found whitespace in feature_names, replace with underlines\n",
      "[LightGBM] [Info] Auto-choosing row-wise multi-threading, the overhead of testing was 0.006152 seconds.\n",
      "You can set `force_row_wise=true` to remove the overhead.\n",
      "And if memory is not enough, you can set `force_col_wise=true`.\n",
      "[LightGBM] [Info] Total Bins 1164\n",
      "[LightGBM] [Info] Number of data points in the train set: 58584, number of used features: 63\n",
      "[LightGBM] [Info] Start training from score 600.815422\n",
      "[LightGBM] [Warning] No further splits with positive gain, best gain: -inf\n",
      "[LightGBM] [Warning] No further splits with positive gain, best gain: -inf\n",
      "[LightGBM] [Warning] No further splits with positive gain, best gain: -inf\n",
      "[LightGBM] [Warning] No further splits with positive gain, best gain: -inf\n",
      "[LightGBM] [Warning] No further splits with positive gain, best gain: -inf\n",
      "[LightGBM] [Warning] No further splits with positive gain, best gain: -inf\n",
      "[LightGBM] [Warning] No further splits with positive gain, best gain: -inf\n",
      "[LightGBM] [Warning] No further splits with positive gain, best gain: -inf\n",
      "[LightGBM] [Warning] No further splits with positive gain, best gain: -inf\n",
      "[LightGBM] [Warning] No further splits with positive gain, best gain: -inf\n",
      "[LightGBM] [Warning] No further splits with positive gain, best gain: -inf\n",
      "[LightGBM] [Warning] No further splits with positive gain, best gain: -inf\n",
      "[LightGBM] [Warning] No further splits with positive gain, best gain: -inf\n",
      "LightGBM_St_Best_Par \n",
      "MAE: 66.93\n",
      "RMSE: 110.99\n",
      "R² Score: 0.9161\n",
      "Time: 3.52 sec\n"
     ]
    },
    {
     "name": "stderr",
     "output_type": "stream",
     "text": [
      "C:\\Users\\barba\\anaconda3\\Lib\\site-packages\\sklearn\\metrics\\_regression.py:492: FutureWarning: 'squared' is deprecated in version 1.4 and will be removed in 1.6. To calculate the root mean squared error, use the function'root_mean_squared_error'.\n",
      "  warnings.warn(\n"
     ]
    }
   ],
   "source": [
    "lgbm4 = lgb.LGBMRegressor(n_estimators=500, max_depth = 10, learning_rate=0.1, num_leaves = 50, random_state=42)\n",
    "evaluate_model(\"LightGBM_St_Best_Par\", lgbm4, X_train_standard, X_test_standard, y_train, y_test)"
   ]
  },
  {
   "cell_type": "code",
   "execution_count": 37,
   "id": "ff1e8080-d386-413d-b9ba-21dc3837b034",
   "metadata": {},
   "outputs": [
    {
     "name": "stderr",
     "output_type": "stream",
     "text": [
      "C:\\Users\\barba\\AppData\\Local\\Temp\\ipykernel_9308\\1424562816.py:29: FutureWarning: \n",
      "\n",
      "Passing `palette` without assigning `hue` is deprecated and will be removed in v0.14.0. Assign the `y` variable to `hue` and set `legend=False` for the same effect.\n",
      "\n",
      "  sns.barplot(x='Importance', y='Feature', data=top_features, palette='viridis')\n"
     ]
    },
    {
     "data": {
      "image/png": "[encoded data removed]",
      "text/plain": [
       "<Figure size 1000x600 with 1 Axes>"
      ]
     },
     "metadata": {},
     "output_type": "display_data"
    }
   ],
   "source": [
    "import matplotlib.pyplot as plt\n",
    "import seaborn as sns\n",
    "\n",
    "feature_importances = lgbm4.feature_importances_\n",
    "\n",
    "features_df = pd.DataFrame({\n",
    "    'Feature': X_train_standard.columns,\n",
    "    'Importance': feature_importances\n",
    "}).sort_values(by='Importance', ascending=False)\n",
    "\n",
    "feature_names = {\n",
    "    'livingSpace': 'Living Space [m²]',\n",
    "    'Postal_Code': 'Postal Code',\n",
    "    'buildingAge': 'Building Age [years]',\n",
    "    'pricetrend': 'Price Trend',\n",
    "    'noRooms': 'Number of Rooms',\n",
    "    'floor': 'Floor Level',\n",
    "    'noParkSpaces': 'Parking Spaces',\n",
    "    'hasKitchen': 'Has Kitchen',\n",
    "    'cellar': 'Has Cellar',\n",
    "    'lift': 'Has Lift'\n",
    "}\n",
    "\n",
    "features_df['Feature'] = features_df['Feature'].replace(feature_names)\n",
    "\n",
    "top_features = features_df.head(10)\n",
    "\n",
    "plt.figure(figsize=(10, 6))\n",
    "sns.barplot(x='Importance', y='Feature', data=top_features, palette='viridis')\n",
    "plt.title('Top 10 Most Important Features in LightGBM')\n",
    "plt.xlabel('Feature Importance')\n",
    "plt.ylabel('Features')\n",
    "plt.tight_layout()\n",
    "plt.show()\n"
   ]
  }
 ],
 "metadata": {
  "kernelspec": {
   "display_name": "Python [conda env:base] *",
   "language": "python",
   "name": "conda-base-py"
  },
  "language_info": {
   "codemirror_mode": {
    "name": "ipython",
    "version": 3
   },
   "file_extension": ".py",
   "mimetype": "text/x-python",
   "name": "python",
   "nbconvert_exporter": "python",
   "pygments_lexer": "ipython3",
   "version": "3.12.7"
  }
 },
 "nbformat": 4,
 "nbformat_minor": 5
}
